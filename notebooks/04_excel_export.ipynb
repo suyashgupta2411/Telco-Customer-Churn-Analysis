{
 "cells": [
  {
   "cell_type": "code",
   "execution_count": 2,
   "id": "e3635bfb",
   "metadata": {},
   "outputs": [
    {
     "name": "stdout",
     "output_type": "stream",
     "text": [
      "✅ Exported: ../excel/Overall_Churn.csv\n",
      "✅ Exported: ../excel/Churn_By_Contract.csv\n",
      "✅ Exported: ../excel/Churn_By_InternetService.csv\n",
      "✅ Exported: ../excel/Churn_By_PaymentMethod.csv\n",
      "✅ Exported: ../excel/Churn_By_TenureGroup.csv\n"
     ]
    }
   ],
   "source": [
    "import pandas as pd\n",
    "from sqlalchemy import create_engine\n",
    "from dotenv import load_dotenv\n",
    "import os\n",
    "\n",
    "load_dotenv()\n",
    "\n",
    "DB_USER = os.getenv(\"DB_USER\")\n",
    "DB_PASSWORD = os.getenv(\"DB_PASSWORD\")\n",
    "DB_HOST = os.getenv(\"DB_HOST\")\n",
    "DB_PORT = os.getenv(\"DB_PORT\")\n",
    "DB_NAME = os.getenv(\"DB_NAME\")\n",
    "\n",
    "engine = create_engine(f\"postgresql://{DB_USER}:{DB_PASSWORD}@{DB_HOST}:{DB_PORT}/{DB_NAME}\")\n",
    "\n",
    "queries = {\n",
    "    \"Overall_Churn\": \"SELECT ROUND(AVG(churn::numeric)*100,2) AS churn_rate_percent FROM telco_churn;\",\n",
    "    \"Churn_By_Contract\": \"\"\"\n",
    "        SELECT contract, ROUND(AVG(churn::numeric)*100,2) AS churn_rate_percent\n",
    "        FROM telco_churn\n",
    "        GROUP BY contract\n",
    "        ORDER BY churn_rate_percent DESC;\n",
    "    \"\"\",\n",
    "    \"Churn_By_InternetService\": \"\"\"\n",
    "        SELECT internetservice, ROUND(AVG(churn::numeric)*100,2) AS churn_rate_percent\n",
    "        FROM telco_churn\n",
    "        GROUP BY internetservice\n",
    "        ORDER BY churn_rate_percent DESC;\n",
    "    \"\"\",\n",
    "    \"Churn_By_PaymentMethod\": \"\"\"\n",
    "        SELECT paymentmethod, ROUND(AVG(churn::numeric)*100,2) AS churn_rate_percent\n",
    "        FROM telco_churn\n",
    "        GROUP BY paymentmethod\n",
    "        ORDER BY churn_rate_percent DESC;\n",
    "    \"\"\",\n",
    "    \"Churn_By_TenureGroup\": \"\"\"\n",
    "        SELECT \n",
    "            CASE \n",
    "                WHEN tenure < 12 THEN '0–1 year'\n",
    "                WHEN tenure BETWEEN 12 AND 24 THEN '1–2 years'\n",
    "                WHEN tenure BETWEEN 25 AND 48 THEN '2–4 years'\n",
    "                ELSE '4+ years'\n",
    "            END AS tenure_group,\n",
    "            ROUND(AVG(churn::numeric)*100,2) AS churn_rate_percent\n",
    "        FROM telco_churn\n",
    "        GROUP BY tenure_group\n",
    "        ORDER BY churn_rate_percent DESC;\n",
    "    \"\"\"\n",
    "}\n",
    "\n",
    "# Export each query result to a separate CSV file\n",
    "os.makedirs(\"../excel\", exist_ok=True)\n",
    "for name, query in queries.items():\n",
    "    df = pd.read_sql(query, engine)\n",
    "    path = f\"../excel/{name}.csv\"\n",
    "    df.to_csv(path, index=False)\n",
    "    print(f\"✅ Exported: {path}\")\n"
   ]
  },
  {
   "cell_type": "code",
   "execution_count": null,
   "id": "2db590c7",
   "metadata": {},
   "outputs": [],
   "source": []
  }
 ],
 "metadata": {
  "kernelspec": {
   "display_name": "venv",
   "language": "python",
   "name": "python3"
  },
  "language_info": {
   "codemirror_mode": {
    "name": "ipython",
    "version": 3
   },
   "file_extension": ".py",
   "mimetype": "text/x-python",
   "name": "python",
   "nbconvert_exporter": "python",
   "pygments_lexer": "ipython3",
   "version": "3.12.8"
  }
 },
 "nbformat": 4,
 "nbformat_minor": 5
}
